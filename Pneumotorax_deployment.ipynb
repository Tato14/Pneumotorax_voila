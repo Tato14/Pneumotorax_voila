{
 "cells": [
  {
   "cell_type": "code",
   "execution_count": 1,
   "metadata": {},
   "outputs": [
    {
     "name": "stdout",
     "output_type": "stream",
     "text": [
      "Collecting fastai2\n",
      "  Downloading fastai2-0.0.13-py3-none-any.whl (179 kB)\n",
      "\u001b[K     |████████████████████████████████| 179 kB 2.7 MB/s eta 0:00:01\n",
      "\u001b[?25hRequirement already satisfied: requests in /home/jg/anaconda3/envs/fastai2/lib/python3.7/site-packages (from fastai2) (2.23.0)\n",
      "Requirement already satisfied: fastcore in /home/jg/anaconda3/envs/fastai2/lib/python3.7/site-packages (from fastai2) (0.1.15)\n",
      "Requirement already satisfied: spacy in /home/jg/anaconda3/envs/fastai2/lib/python3.7/site-packages (from fastai2) (2.1.8)\n",
      "Requirement already satisfied: pyyaml in /home/jg/anaconda3/envs/fastai2/lib/python3.7/site-packages (from fastai2) (5.3)\n",
      "Requirement already satisfied: pillow in /home/jg/anaconda3/envs/fastai2/lib/python3.7/site-packages (from fastai2) (7.0.0)\n",
      "Requirement already satisfied: scikit-learn in /home/jg/anaconda3/envs/fastai2/lib/python3.7/site-packages (from fastai2) (0.22.1)\n",
      "Requirement already satisfied: torch>=1.3.0 in /home/jg/anaconda3/envs/fastai2/lib/python3.7/site-packages (from fastai2) (1.4.0)\n",
      "Requirement already satisfied: pandas in /home/jg/anaconda3/envs/fastai2/lib/python3.7/site-packages (from fastai2) (1.0.2)\n",
      "Requirement already satisfied: torchvision>=0.5 in /home/jg/anaconda3/envs/fastai2/lib/python3.7/site-packages (from fastai2) (0.5.0)\n",
      "Requirement already satisfied: fastprogress>=0.1.22 in /home/jg/anaconda3/envs/fastai2/lib/python3.7/site-packages (from fastai2) (0.2.2)\n",
      "Requirement already satisfied: matplotlib in /home/jg/anaconda3/envs/fastai2/lib/python3.7/site-packages (from fastai2) (3.1.3)\n",
      "Requirement already satisfied: scipy in /home/jg/anaconda3/envs/fastai2/lib/python3.7/site-packages (from fastai2) (1.4.1)\n",
      "Requirement already satisfied: urllib3!=1.25.0,!=1.25.1,<1.26,>=1.21.1 in /home/jg/anaconda3/envs/fastai2/lib/python3.7/site-packages (from requests->fastai2) (1.25.8)\n",
      "Requirement already satisfied: certifi>=2017.4.17 in /home/jg/anaconda3/envs/fastai2/lib/python3.7/site-packages (from requests->fastai2) (2019.11.28)\n",
      "Requirement already satisfied: chardet<4,>=3.0.2 in /home/jg/anaconda3/envs/fastai2/lib/python3.7/site-packages (from requests->fastai2) (3.0.4)\n",
      "Requirement already satisfied: idna<3,>=2.5 in /home/jg/anaconda3/envs/fastai2/lib/python3.7/site-packages (from requests->fastai2) (2.9)\n",
      "Requirement already satisfied: numpy in /home/jg/anaconda3/envs/fastai2/lib/python3.7/site-packages (from fastcore->fastai2) (1.18.1)\n",
      "Requirement already satisfied: srsly<1.1.0,>=0.0.6 in /home/jg/anaconda3/envs/fastai2/lib/python3.7/site-packages (from spacy->fastai2) (0.1.0)\n",
      "Requirement already satisfied: thinc<7.1.0,>=7.0.8 in /home/jg/anaconda3/envs/fastai2/lib/python3.7/site-packages (from spacy->fastai2) (7.0.8)\n",
      "Requirement already satisfied: plac<1.0.0,>=0.9.6 in /home/jg/anaconda3/envs/fastai2/lib/python3.7/site-packages (from spacy->fastai2) (0.9.6)\n",
      "Requirement already satisfied: preshed<2.1.0,>=2.0.1 in /home/jg/anaconda3/envs/fastai2/lib/python3.7/site-packages (from spacy->fastai2) (2.0.1)\n",
      "Requirement already satisfied: wasabi<1.1.0,>=0.2.0 in /home/jg/anaconda3/envs/fastai2/lib/python3.7/site-packages (from spacy->fastai2) (0.2.2)\n",
      "Requirement already satisfied: cymem<2.1.0,>=2.0.2 in /home/jg/anaconda3/envs/fastai2/lib/python3.7/site-packages (from spacy->fastai2) (2.0.2)\n",
      "Requirement already satisfied: blis<0.3.0,>=0.2.2 in /home/jg/anaconda3/envs/fastai2/lib/python3.7/site-packages (from spacy->fastai2) (0.2.4)\n",
      "Requirement already satisfied: murmurhash<1.1.0,>=0.28.0 in /home/jg/anaconda3/envs/fastai2/lib/python3.7/site-packages (from spacy->fastai2) (1.0.2)\n",
      "Requirement already satisfied: joblib>=0.11 in /home/jg/anaconda3/envs/fastai2/lib/python3.7/site-packages (from scikit-learn->fastai2) (0.14.1)\n",
      "Requirement already satisfied: pytz>=2017.2 in /home/jg/anaconda3/envs/fastai2/lib/python3.7/site-packages (from pandas->fastai2) (2019.3)\n",
      "Requirement already satisfied: python-dateutil>=2.6.1 in /home/jg/anaconda3/envs/fastai2/lib/python3.7/site-packages (from pandas->fastai2) (2.8.1)\n",
      "Requirement already satisfied: six in /home/jg/anaconda3/envs/fastai2/lib/python3.7/site-packages (from torchvision>=0.5->fastai2) (1.14.0)\n",
      "Requirement already satisfied: cycler>=0.10 in /home/jg/anaconda3/envs/fastai2/lib/python3.7/site-packages (from matplotlib->fastai2) (0.10.0)\n",
      "Requirement already satisfied: pyparsing!=2.0.4,!=2.1.2,!=2.1.6,>=2.0.1 in /home/jg/anaconda3/envs/fastai2/lib/python3.7/site-packages (from matplotlib->fastai2) (2.4.6)\n",
      "Requirement already satisfied: kiwisolver>=1.0.1 in /home/jg/anaconda3/envs/fastai2/lib/python3.7/site-packages (from matplotlib->fastai2) (1.1.0)\n",
      "Requirement already satisfied: tqdm<5.0.0,>=4.10.0 in /home/jg/anaconda3/envs/fastai2/lib/python3.7/site-packages (from thinc<7.1.0,>=7.0.8->spacy->fastai2) (4.43.0)\n",
      "Requirement already satisfied: setuptools in /home/jg/anaconda3/envs/fastai2/lib/python3.7/site-packages (from kiwisolver>=1.0.1->matplotlib->fastai2) (46.0.0.post20200309)\n",
      "Installing collected packages: fastai2\n",
      "Successfully installed fastai2-0.0.13\n"
     ]
    }
   ],
   "source": [
    "!pip install fastai2"
   ]
  },
  {
   "cell_type": "code",
   "execution_count": 2,
   "metadata": {},
   "outputs": [],
   "source": [
    "from fastai2.vision.all import *\n",
    "from fastai2.vision.widgets import *\n",
    "from fastai2.medical.imaging import *\n",
    "import pydicom"
   ]
  },
  {
   "cell_type": "markdown",
   "metadata": {},
   "source": [
    "## Pneumotorax detector\n",
    "\n",
    "This is a pneumotorax detector built using SIIM Pneumotorax detection challenge data"
   ]
  },
  {
   "cell_type": "code",
   "execution_count": 3,
   "metadata": {},
   "outputs": [
    {
     "ename": "ModuleNotFoundError",
     "evalue": "No module named 'fastai2.fastai2'",
     "output_type": "error",
     "traceback": [
      "\u001b[0;31m---------------------------------------------------------------------------\u001b[0m",
      "\u001b[0;31mModuleNotFoundError\u001b[0m                       Traceback (most recent call last)",
      "\u001b[0;32m<ipython-input-3-7ffce9e5244d>\u001b[0m in \u001b[0;36m<module>\u001b[0;34m\u001b[0m\n\u001b[1;32m      2\u001b[0m \u001b[0;32mdef\u001b[0m \u001b[0mreplace_lambda_gety\u001b[0m\u001b[0;34m(\u001b[0m\u001b[0mx\u001b[0m\u001b[0;34m)\u001b[0m\u001b[0;34m:\u001b[0m \u001b[0;32mreturn\u001b[0m \u001b[0mx\u001b[0m\u001b[0;34m[\u001b[0m\u001b[0;36m1\u001b[0m\u001b[0;34m]\u001b[0m\u001b[0;34m\u001b[0m\u001b[0;34m\u001b[0m\u001b[0m\n\u001b[1;32m      3\u001b[0m \u001b[0mdefaults\u001b[0m\u001b[0;34m.\u001b[0m\u001b[0muse_cuda\u001b[0m \u001b[0;34m=\u001b[0m \u001b[0;32mFalse\u001b[0m\u001b[0;34m\u001b[0m\u001b[0;34m\u001b[0m\u001b[0m\n\u001b[0;32m----> 4\u001b[0;31m \u001b[0mlearn_inf\u001b[0m \u001b[0;34m=\u001b[0m \u001b[0mtorch\u001b[0m\u001b[0;34m.\u001b[0m\u001b[0mload\u001b[0m\u001b[0;34m(\u001b[0m\u001b[0;34m'fastai2_Imagenet_20_RN50.pkl'\u001b[0m\u001b[0;34m,\u001b[0m \u001b[0mmap_location\u001b[0m\u001b[0;34m=\u001b[0m\u001b[0;34m'cpu'\u001b[0m\u001b[0;34m)\u001b[0m\u001b[0;34m\u001b[0m\u001b[0;34m\u001b[0m\u001b[0m\n\u001b[0m\u001b[1;32m      5\u001b[0m \u001b[0mlearn_inf\u001b[0m\u001b[0;34m.\u001b[0m\u001b[0mdls\u001b[0m\u001b[0;34m.\u001b[0m\u001b[0mcpu\u001b[0m\u001b[0;34m(\u001b[0m\u001b[0;34m)\u001b[0m\u001b[0;34m\u001b[0m\u001b[0;34m\u001b[0m\u001b[0m\n\u001b[1;32m      6\u001b[0m \u001b[0mbtn_upload\u001b[0m \u001b[0;34m=\u001b[0m \u001b[0mwidgets\u001b[0m\u001b[0;34m.\u001b[0m\u001b[0mFileUpload\u001b[0m\u001b[0;34m(\u001b[0m\u001b[0;34m)\u001b[0m\u001b[0;34m\u001b[0m\u001b[0;34m\u001b[0m\u001b[0m\n",
      "\u001b[0;32m~/anaconda3/envs/fastai2/lib/python3.7/site-packages/torch/serialization.py\u001b[0m in \u001b[0;36mload\u001b[0;34m(f, map_location, pickle_module, **pickle_load_args)\u001b[0m\n\u001b[1;32m    527\u001b[0m             \u001b[0;32mwith\u001b[0m \u001b[0m_open_zipfile_reader\u001b[0m\u001b[0;34m(\u001b[0m\u001b[0mf\u001b[0m\u001b[0;34m)\u001b[0m \u001b[0;32mas\u001b[0m \u001b[0mopened_zipfile\u001b[0m\u001b[0;34m:\u001b[0m\u001b[0;34m\u001b[0m\u001b[0;34m\u001b[0m\u001b[0m\n\u001b[1;32m    528\u001b[0m                 \u001b[0;32mreturn\u001b[0m \u001b[0m_load\u001b[0m\u001b[0;34m(\u001b[0m\u001b[0mopened_zipfile\u001b[0m\u001b[0;34m,\u001b[0m \u001b[0mmap_location\u001b[0m\u001b[0;34m,\u001b[0m \u001b[0mpickle_module\u001b[0m\u001b[0;34m,\u001b[0m \u001b[0;34m**\u001b[0m\u001b[0mpickle_load_args\u001b[0m\u001b[0;34m)\u001b[0m\u001b[0;34m\u001b[0m\u001b[0;34m\u001b[0m\u001b[0m\n\u001b[0;32m--> 529\u001b[0;31m         \u001b[0;32mreturn\u001b[0m \u001b[0m_legacy_load\u001b[0m\u001b[0;34m(\u001b[0m\u001b[0mopened_file\u001b[0m\u001b[0;34m,\u001b[0m \u001b[0mmap_location\u001b[0m\u001b[0;34m,\u001b[0m \u001b[0mpickle_module\u001b[0m\u001b[0;34m,\u001b[0m \u001b[0;34m**\u001b[0m\u001b[0mpickle_load_args\u001b[0m\u001b[0;34m)\u001b[0m\u001b[0;34m\u001b[0m\u001b[0;34m\u001b[0m\u001b[0m\n\u001b[0m\u001b[1;32m    530\u001b[0m \u001b[0;34m\u001b[0m\u001b[0m\n\u001b[1;32m    531\u001b[0m \u001b[0;34m\u001b[0m\u001b[0m\n",
      "\u001b[0;32m~/anaconda3/envs/fastai2/lib/python3.7/site-packages/torch/serialization.py\u001b[0m in \u001b[0;36m_legacy_load\u001b[0;34m(f, map_location, pickle_module, **pickle_load_args)\u001b[0m\n\u001b[1;32m    700\u001b[0m     \u001b[0munpickler\u001b[0m \u001b[0;34m=\u001b[0m \u001b[0mpickle_module\u001b[0m\u001b[0;34m.\u001b[0m\u001b[0mUnpickler\u001b[0m\u001b[0;34m(\u001b[0m\u001b[0mf\u001b[0m\u001b[0;34m,\u001b[0m \u001b[0;34m**\u001b[0m\u001b[0mpickle_load_args\u001b[0m\u001b[0;34m)\u001b[0m\u001b[0;34m\u001b[0m\u001b[0;34m\u001b[0m\u001b[0m\n\u001b[1;32m    701\u001b[0m     \u001b[0munpickler\u001b[0m\u001b[0;34m.\u001b[0m\u001b[0mpersistent_load\u001b[0m \u001b[0;34m=\u001b[0m \u001b[0mpersistent_load\u001b[0m\u001b[0;34m\u001b[0m\u001b[0;34m\u001b[0m\u001b[0m\n\u001b[0;32m--> 702\u001b[0;31m     \u001b[0mresult\u001b[0m \u001b[0;34m=\u001b[0m \u001b[0munpickler\u001b[0m\u001b[0;34m.\u001b[0m\u001b[0mload\u001b[0m\u001b[0;34m(\u001b[0m\u001b[0;34m)\u001b[0m\u001b[0;34m\u001b[0m\u001b[0;34m\u001b[0m\u001b[0m\n\u001b[0m\u001b[1;32m    703\u001b[0m \u001b[0;34m\u001b[0m\u001b[0m\n\u001b[1;32m    704\u001b[0m     \u001b[0mdeserialized_storage_keys\u001b[0m \u001b[0;34m=\u001b[0m \u001b[0mpickle_module\u001b[0m\u001b[0;34m.\u001b[0m\u001b[0mload\u001b[0m\u001b[0;34m(\u001b[0m\u001b[0mf\u001b[0m\u001b[0;34m,\u001b[0m \u001b[0;34m**\u001b[0m\u001b[0mpickle_load_args\u001b[0m\u001b[0;34m)\u001b[0m\u001b[0;34m\u001b[0m\u001b[0;34m\u001b[0m\u001b[0m\n",
      "\u001b[0;31mModuleNotFoundError\u001b[0m: No module named 'fastai2.fastai2'"
     ]
    }
   ],
   "source": [
    "def replace_lambda_getx(x): return pneumothorax_source/x[0]\n",
    "def replace_lambda_gety(x): return x[1]\n",
    "defaults.use_cuda = False\n",
    "learn_inf = torch.load('fastai2_Imagenet_20_RN50.pkl', map_location='cpu')\n",
    "learn_inf.dls.cpu()\n",
    "btn_upload = widgets.FileUpload()\n",
    "out_pl = widgets.Output()\n",
    "lbl_pred = widgets.Label()"
   ]
  },
  {
   "cell_type": "code",
   "execution_count": 4,
   "metadata": {},
   "outputs": [],
   "source": [
    "def on_click(change):\n",
    "    img = PILDicom.create(btn_upload.data[-1])\n",
    "    out_pl.clear_output()\n",
    "    with out_pl: display(img.to_thumb(1024,1024))\n",
    "    pred,pred_idx,probs = learn_inf.predict(img)\n",
    "    lbl_pred.value = f'Prediction: {pred}; Probability: {probs[pred_idx]:.04f}'"
   ]
  },
  {
   "cell_type": "code",
   "execution_count": null,
   "metadata": {},
   "outputs": [],
   "source": [
    "btn_upload.observe(on_click, names=['data'])"
   ]
  },
  {
   "cell_type": "code",
   "execution_count": null,
   "metadata": {},
   "outputs": [],
   "source": [
    "display(VBox([widgets.Label('Pneumotorax detector'), btn_upload, out_pl, lbl_pred]))"
   ]
  }
 ],
 "metadata": {
  "kernelspec": {
   "display_name": "Python 3",
   "language": "python",
   "name": "python3"
  },
  "language_info": {
   "codemirror_mode": {
    "name": "ipython",
    "version": 3
   },
   "file_extension": ".py",
   "mimetype": "text/x-python",
   "name": "python",
   "nbconvert_exporter": "python",
   "pygments_lexer": "ipython3",
   "version": "3.7.6"
  }
 },
 "nbformat": 4,
 "nbformat_minor": 4
}
