{
 "cells": [
  {
   "cell_type": "code",
   "execution_count": 5,
   "metadata": {
    "scrolled": true
   },
   "outputs": [
    {
     "name": "stdout",
     "output_type": "stream",
     "text": [
      "Processing ./fastai2\n",
      "Requirement already satisfied: fastcore in /home/jg/anaconda3/envs/fastai2/lib/python3.7/site-packages (from fastai2==0.0.14) (0.1.15)\n",
      "Requirement already satisfied: torch>=1.3.0 in /home/jg/anaconda3/envs/fastai2/lib/python3.7/site-packages (from fastai2==0.0.14) (1.4.0)\n",
      "Requirement already satisfied: torchvision>=0.5 in /home/jg/anaconda3/envs/fastai2/lib/python3.7/site-packages (from fastai2==0.0.14) (0.5.0)\n",
      "Requirement already satisfied: matplotlib in /home/jg/anaconda3/envs/fastai2/lib/python3.7/site-packages (from fastai2==0.0.14) (3.1.3)\n",
      "Requirement already satisfied: pandas in /home/jg/anaconda3/envs/fastai2/lib/python3.7/site-packages (from fastai2==0.0.14) (1.0.2)\n",
      "Requirement already satisfied: requests in /home/jg/anaconda3/envs/fastai2/lib/python3.7/site-packages (from fastai2==0.0.14) (2.23.0)\n",
      "Requirement already satisfied: pyyaml in /home/jg/anaconda3/envs/fastai2/lib/python3.7/site-packages (from fastai2==0.0.14) (5.3)\n",
      "Requirement already satisfied: fastprogress>=0.1.22 in /home/jg/anaconda3/envs/fastai2/lib/python3.7/site-packages (from fastai2==0.0.14) (0.2.2)\n",
      "Requirement already satisfied: pillow in /home/jg/anaconda3/envs/fastai2/lib/python3.7/site-packages (from fastai2==0.0.14) (7.0.0)\n",
      "Requirement already satisfied: scikit-learn in /home/jg/anaconda3/envs/fastai2/lib/python3.7/site-packages (from fastai2==0.0.14) (0.22.1)\n",
      "Requirement already satisfied: scipy in /home/jg/anaconda3/envs/fastai2/lib/python3.7/site-packages (from fastai2==0.0.14) (1.4.1)\n",
      "Requirement already satisfied: spacy in /home/jg/anaconda3/envs/fastai2/lib/python3.7/site-packages (from fastai2==0.0.14) (2.1.8)\n",
      "Requirement already satisfied: numpy in /home/jg/anaconda3/envs/fastai2/lib/python3.7/site-packages (from fastcore->fastai2==0.0.14) (1.18.1)\n",
      "Requirement already satisfied: six in /home/jg/anaconda3/envs/fastai2/lib/python3.7/site-packages (from torchvision>=0.5->fastai2==0.0.14) (1.14.0)\n",
      "Requirement already satisfied: python-dateutil>=2.1 in /home/jg/anaconda3/envs/fastai2/lib/python3.7/site-packages (from matplotlib->fastai2==0.0.14) (2.8.1)\n",
      "Requirement already satisfied: cycler>=0.10 in /home/jg/anaconda3/envs/fastai2/lib/python3.7/site-packages (from matplotlib->fastai2==0.0.14) (0.10.0)\n",
      "Requirement already satisfied: kiwisolver>=1.0.1 in /home/jg/anaconda3/envs/fastai2/lib/python3.7/site-packages (from matplotlib->fastai2==0.0.14) (1.1.0)\n",
      "Requirement already satisfied: pyparsing!=2.0.4,!=2.1.2,!=2.1.6,>=2.0.1 in /home/jg/anaconda3/envs/fastai2/lib/python3.7/site-packages (from matplotlib->fastai2==0.0.14) (2.4.6)\n",
      "Requirement already satisfied: pytz>=2017.2 in /home/jg/anaconda3/envs/fastai2/lib/python3.7/site-packages (from pandas->fastai2==0.0.14) (2019.3)\n",
      "Requirement already satisfied: urllib3!=1.25.0,!=1.25.1,<1.26,>=1.21.1 in /home/jg/anaconda3/envs/fastai2/lib/python3.7/site-packages (from requests->fastai2==0.0.14) (1.25.8)\n",
      "Requirement already satisfied: chardet<4,>=3.0.2 in /home/jg/anaconda3/envs/fastai2/lib/python3.7/site-packages (from requests->fastai2==0.0.14) (3.0.4)\n",
      "Requirement already satisfied: idna<3,>=2.5 in /home/jg/anaconda3/envs/fastai2/lib/python3.7/site-packages (from requests->fastai2==0.0.14) (2.9)\n",
      "Requirement already satisfied: certifi>=2017.4.17 in /home/jg/anaconda3/envs/fastai2/lib/python3.7/site-packages (from requests->fastai2==0.0.14) (2019.11.28)\n",
      "Requirement already satisfied: joblib>=0.11 in /home/jg/anaconda3/envs/fastai2/lib/python3.7/site-packages (from scikit-learn->fastai2==0.0.14) (0.14.1)\n",
      "Requirement already satisfied: murmurhash<1.1.0,>=0.28.0 in /home/jg/anaconda3/envs/fastai2/lib/python3.7/site-packages (from spacy->fastai2==0.0.14) (1.0.2)\n",
      "Requirement already satisfied: blis<0.3.0,>=0.2.2 in /home/jg/anaconda3/envs/fastai2/lib/python3.7/site-packages (from spacy->fastai2==0.0.14) (0.2.4)\n",
      "Requirement already satisfied: thinc<7.1.0,>=7.0.8 in /home/jg/anaconda3/envs/fastai2/lib/python3.7/site-packages (from spacy->fastai2==0.0.14) (7.0.8)\n",
      "Requirement already satisfied: preshed<2.1.0,>=2.0.1 in /home/jg/anaconda3/envs/fastai2/lib/python3.7/site-packages (from spacy->fastai2==0.0.14) (2.0.1)\n",
      "Requirement already satisfied: plac<1.0.0,>=0.9.6 in /home/jg/anaconda3/envs/fastai2/lib/python3.7/site-packages (from spacy->fastai2==0.0.14) (0.9.6)\n",
      "Requirement already satisfied: cymem<2.1.0,>=2.0.2 in /home/jg/anaconda3/envs/fastai2/lib/python3.7/site-packages (from spacy->fastai2==0.0.14) (2.0.2)\n",
      "Requirement already satisfied: srsly<1.1.0,>=0.0.6 in /home/jg/anaconda3/envs/fastai2/lib/python3.7/site-packages (from spacy->fastai2==0.0.14) (0.1.0)\n",
      "Requirement already satisfied: wasabi<1.1.0,>=0.2.0 in /home/jg/anaconda3/envs/fastai2/lib/python3.7/site-packages (from spacy->fastai2==0.0.14) (0.2.2)\n",
      "Requirement already satisfied: setuptools in /home/jg/anaconda3/envs/fastai2/lib/python3.7/site-packages (from kiwisolver>=1.0.1->matplotlib->fastai2==0.0.14) (46.0.0.post20200309)\n",
      "Requirement already satisfied: tqdm<5.0.0,>=4.10.0 in /home/jg/anaconda3/envs/fastai2/lib/python3.7/site-packages (from thinc<7.1.0,>=7.0.8->spacy->fastai2==0.0.14) (4.43.0)\n",
      "Building wheels for collected packages: fastai2\n",
      "  Building wheel for fastai2 (setup.py): started\n",
      "  Building wheel for fastai2 (setup.py): finished with status 'done'\n",
      "  Created wheel for fastai2: filename=fastai2-0.0.14-py3-none-any.whl size=180941 sha256=5f5caaa3b930dac68651c35784f7a7c3d161b769f1a33b521c1d34ce6b6826e0\n",
      "  Stored in directory: /tmp/pip-ephem-wheel-cache-7i9p1dka/wheels/19/0f/26/23f74a0c1008d5d76ef3de6dd0e0ba47041db065c8c4bcca75\n",
      "Successfully built fastai2\n",
      "Installing collected packages: fastai2\n",
      "  Attempting uninstall: fastai2\n",
      "    Found existing installation: fastai2 0.0.14\n",
      "    Uninstalling fastai2-0.0.14:\n",
      "      Successfully uninstalled fastai2-0.0.14\n",
      "Successfully installed fastai2-0.0.14\n"
     ]
    },
    {
     "name": "stderr",
     "output_type": "stream",
     "text": [
      "S'està clonant a «fastai2»...\n"
     ]
    }
   ],
   "source": [
    "%%bash\n",
    "git clone https://github.com/fastai/fastai2\n",
    "pip install ./fastai2"
   ]
  },
  {
   "cell_type": "code",
   "execution_count": 6,
   "metadata": {},
   "outputs": [],
   "source": [
    "from fastai2.vision.all import *\n",
    "from fastai2.vision.widgets import *\n",
    "from fastai2.medical.imaging import *\n",
    "import pydicom"
   ]
  },
  {
   "cell_type": "markdown",
   "metadata": {},
   "source": [
    "## Pneumotorax detector\n",
    "\n",
    "This is a pneumotorax detector built using SIIM Pneumotorax detection challenge data"
   ]
  },
  {
   "cell_type": "code",
   "execution_count": 7,
   "metadata": {},
   "outputs": [],
   "source": [
    "def replace_lambda_getx(x): return pneumothorax_source/x[0]\n",
    "def replace_lambda_gety(x): return x[1]\n",
    "defaults.use_cuda = False\n",
    "learn_inf = torch.load('fastai2_Imagenet_20_RN50.pkl', map_location='cpu')\n",
    "learn_inf.dls.cpu()\n",
    "btn_upload = widgets.FileUpload()\n",
    "out_pl = widgets.Output()\n",
    "lbl_pred = widgets.Label()"
   ]
  },
  {
   "cell_type": "code",
   "execution_count": 8,
   "metadata": {},
   "outputs": [],
   "source": [
    "def on_click(change):\n",
    "    img = PILDicom.create(btn_upload.data[-1])\n",
    "    out_pl.clear_output()\n",
    "    with out_pl: display(img.to_thumb(1024,1024))\n",
    "    pred,pred_idx,probs = learn_inf.predict(img)\n",
    "    lbl_pred.value = f'Prediction: {pred}; Probability: {probs[pred_idx]:.04f}'"
   ]
  },
  {
   "cell_type": "code",
   "execution_count": 9,
   "metadata": {},
   "outputs": [],
   "source": [
    "btn_upload.observe(on_click, names=['data'])"
   ]
  },
  {
   "cell_type": "code",
   "execution_count": 10,
   "metadata": {},
   "outputs": [
    {
     "data": {
      "application/vnd.jupyter.widget-view+json": {
       "model_id": "cb556f253dc740ae873c1731aa36a43f",
       "version_major": 2,
       "version_minor": 0
      },
      "text/plain": [
       "VBox(children=(Label(value='Pneumotorax detector'), FileUpload(value={}, description='Upload'), Output(), Labe…"
      ]
     },
     "metadata": {},
     "output_type": "display_data"
    }
   ],
   "source": [
    "display(VBox([widgets.Label('Pneumotorax detector'), btn_upload, out_pl, lbl_pred]))"
   ]
  }
 ],
 "metadata": {
  "kernelspec": {
   "display_name": "Python 3",
   "language": "python",
   "name": "python3"
  },
  "language_info": {
   "codemirror_mode": {
    "name": "ipython",
    "version": 3
   },
   "file_extension": ".py",
   "mimetype": "text/x-python",
   "name": "python",
   "nbconvert_exporter": "python",
   "pygments_lexer": "ipython3",
   "version": "3.7.6"
  }
 },
 "nbformat": 4,
 "nbformat_minor": 4
}
